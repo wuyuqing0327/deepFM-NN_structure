{
 "cells": [
  {
   "cell_type": "code",
   "execution_count": 1,
   "metadata": {
    "Collapsed": "false"
   },
   "outputs": [],
   "source": [
    "import warnings\n",
    "warnings.filterwarnings(\"ignore\")\n",
    "import numpy as np \n",
    "import pandas as pd"
   ]
  },
  {
   "cell_type": "code",
   "execution_count": 2,
   "metadata": {
    "Collapsed": "false"
   },
   "outputs": [],
   "source": [
    "data_dir = '/home/odin/chengbixiao/git_code/User_loan_demand/user_loan_demand/offline/data/'\n",
    "train_info_path = data_dir + '0909/feature_model_file/train_info.csv'\n",
    "test1_info_path = data_dir + '0909/feature_model_file/test1_info.csv'\n",
    "test_info_path = data_dir + '0909/feature_model_file/test_info.csv'\n",
    "\n",
    "fm_feature_train_norm_path = data_dir + '0909/feature_model_file/fm_feature_train.npy'\n",
    "fm_feature_test1_norm_path = data_dir + '0909/feature_model_file/fm_feature_test1.npy'\n",
    "fm_feature_test_norm_path = data_dir + '0909/feature_model_file/fm_feature_test.npy'\n",
    "\n",
    "fm_data_path = data_dir + 'feature_ori_file/dsd_user_loan_demand_loan_repay_FM_feature_offline.csv'\n",
    "\n",
    "fm_user_fins_feature_train_norm_path = data_dir + '0909/feature_model_file/fm_user_fins_feature_train.npy'\n",
    "fm_user_fins_feature_test1_norm_path = data_dir + '0909/feature_model_file/fm_user_fins_feature_test1.npy'\n",
    "fm_user_fins_feature_test_norm_path = data_dir + '0909/feature_model_file/fm_user_fins_feature_test.npy'\n",
    "fm_user_people_feature_train_norm_path = data_dir + '0909/feature_model_file/fm_user_people_feature_train.npy'\n",
    "fm_user_people_feature_test1_norm_path = data_dir + '0909/feature_model_file/fm_user_people_feature_test1.npy'\n",
    "fm_user_people_feature_test_norm_path = data_dir + '0909/feature_model_file/fm_user_people_feature_test.npy'\n",
    "fm_account_feature_train_norm_path = data_dir + '0909/feature_model_file/fm_account_feature_train.npy'\n",
    "fm_account_feature_test1_norm_path = data_dir + '0909/feature_model_file/fm_account_feature_test1.npy'\n",
    "fm_account_feature_test_norm_path = data_dir + '0909/feature_model_file/fm_account_feature_test.npy'\n"
   ]
  },
  {
   "cell_type": "code",
   "execution_count": 3,
   "metadata": {
    "Collapsed": "false"
   },
   "outputs": [],
   "source": [
    "fm_data = pd.read_csv(fm_data_path,sep='\\t')"
   ]
  },
  {
   "cell_type": "code",
   "execution_count": 4,
   "metadata": {
    "Collapsed": "false"
   },
   "outputs": [],
   "source": [
    "fm_data.columns = [x.split('.')[1] for x in fm_data.columns]"
   ]
  },
  {
   "cell_type": "code",
   "execution_count": 5,
   "metadata": {
    "Collapsed": "false"
   },
   "outputs": [],
   "source": [
    "fea_cols = fm_data.columns[5:]"
   ]
  },
  {
   "cell_type": "code",
   "execution_count": 6,
   "metadata": {
    "Collapsed": "false"
   },
   "outputs": [],
   "source": [
    "fm_data[fea_cols] = fm_data[fea_cols].fillna(0)"
   ]
  },
  {
   "cell_type": "code",
   "execution_count": 7,
   "metadata": {
    "Collapsed": "false"
   },
   "outputs": [
    {
     "data": {
      "text/html": [
       "<div>\n",
       "<style scoped>\n",
       "    .dataframe tbody tr th:only-of-type {\n",
       "        vertical-align: middle;\n",
       "    }\n",
       "\n",
       "    .dataframe tbody tr th {\n",
       "        vertical-align: top;\n",
       "    }\n",
       "\n",
       "    .dataframe thead th {\n",
       "        text-align: right;\n",
       "    }\n",
       "</style>\n",
       "<table border=\"1\" class=\"dataframe\">\n",
       "  <thead>\n",
       "    <tr style=\"text-align: right;\">\n",
       "      <th></th>\n",
       "      <th>uid</th>\n",
       "      <th>funds_channel_id</th>\n",
       "      <th>tel</th>\n",
       "      <th>label</th>\n",
       "      <th>server_date</th>\n",
       "      <th>credit_line_level_1</th>\n",
       "      <th>credit_line_level_2</th>\n",
       "      <th>credit_line_level_3</th>\n",
       "      <th>credit_line_level_4</th>\n",
       "      <th>credit_line_level_5</th>\n",
       "      <th>...</th>\n",
       "      <th>company_occupation_1</th>\n",
       "      <th>company_occupation_2</th>\n",
       "      <th>company_occupation_3</th>\n",
       "      <th>company_occupation_4</th>\n",
       "      <th>company_occupation_5</th>\n",
       "      <th>company_occupation_6</th>\n",
       "      <th>company_occupation_7</th>\n",
       "      <th>company_occupation_8</th>\n",
       "      <th>company_occupation_9</th>\n",
       "      <th>is_businessman</th>\n",
       "    </tr>\n",
       "  </thead>\n",
       "  <tbody>\n",
       "    <tr>\n",
       "      <th>0</th>\n",
       "      <td>72994</td>\n",
       "      <td>3038</td>\n",
       "      <td>18166584910</td>\n",
       "      <td>1</td>\n",
       "      <td>2020-08-05</td>\n",
       "      <td>0</td>\n",
       "      <td>1</td>\n",
       "      <td>0</td>\n",
       "      <td>0</td>\n",
       "      <td>0</td>\n",
       "      <td>...</td>\n",
       "      <td>0.0</td>\n",
       "      <td>0.0</td>\n",
       "      <td>0.0</td>\n",
       "      <td>0.0</td>\n",
       "      <td>0.0</td>\n",
       "      <td>0.0</td>\n",
       "      <td>0.0</td>\n",
       "      <td>0.0</td>\n",
       "      <td>0.0</td>\n",
       "      <td>0.0</td>\n",
       "    </tr>\n",
       "    <tr>\n",
       "      <th>1</th>\n",
       "      <td>72994</td>\n",
       "      <td>3038</td>\n",
       "      <td>18166584910</td>\n",
       "      <td>0</td>\n",
       "      <td>2020-08-07</td>\n",
       "      <td>0</td>\n",
       "      <td>1</td>\n",
       "      <td>0</td>\n",
       "      <td>0</td>\n",
       "      <td>0</td>\n",
       "      <td>...</td>\n",
       "      <td>0.0</td>\n",
       "      <td>0.0</td>\n",
       "      <td>0.0</td>\n",
       "      <td>0.0</td>\n",
       "      <td>0.0</td>\n",
       "      <td>0.0</td>\n",
       "      <td>0.0</td>\n",
       "      <td>0.0</td>\n",
       "      <td>0.0</td>\n",
       "      <td>0.0</td>\n",
       "    </tr>\n",
       "    <tr>\n",
       "      <th>2</th>\n",
       "      <td>72994</td>\n",
       "      <td>3038</td>\n",
       "      <td>18166584910</td>\n",
       "      <td>0</td>\n",
       "      <td>2020-08-06</td>\n",
       "      <td>0</td>\n",
       "      <td>1</td>\n",
       "      <td>0</td>\n",
       "      <td>0</td>\n",
       "      <td>0</td>\n",
       "      <td>...</td>\n",
       "      <td>0.0</td>\n",
       "      <td>0.0</td>\n",
       "      <td>0.0</td>\n",
       "      <td>0.0</td>\n",
       "      <td>0.0</td>\n",
       "      <td>0.0</td>\n",
       "      <td>0.0</td>\n",
       "      <td>0.0</td>\n",
       "      <td>0.0</td>\n",
       "      <td>0.0</td>\n",
       "    </tr>\n",
       "    <tr>\n",
       "      <th>3</th>\n",
       "      <td>72994</td>\n",
       "      <td>3038</td>\n",
       "      <td>18166584910</td>\n",
       "      <td>0</td>\n",
       "      <td>2020-08-09</td>\n",
       "      <td>0</td>\n",
       "      <td>1</td>\n",
       "      <td>0</td>\n",
       "      <td>0</td>\n",
       "      <td>0</td>\n",
       "      <td>...</td>\n",
       "      <td>0.0</td>\n",
       "      <td>0.0</td>\n",
       "      <td>0.0</td>\n",
       "      <td>0.0</td>\n",
       "      <td>0.0</td>\n",
       "      <td>0.0</td>\n",
       "      <td>0.0</td>\n",
       "      <td>0.0</td>\n",
       "      <td>0.0</td>\n",
       "      <td>0.0</td>\n",
       "    </tr>\n",
       "    <tr>\n",
       "      <th>4</th>\n",
       "      <td>3669592</td>\n",
       "      <td>3038</td>\n",
       "      <td>13802429600</td>\n",
       "      <td>0</td>\n",
       "      <td>2020-08-05</td>\n",
       "      <td>0</td>\n",
       "      <td>0</td>\n",
       "      <td>1</td>\n",
       "      <td>0</td>\n",
       "      <td>0</td>\n",
       "      <td>...</td>\n",
       "      <td>0.0</td>\n",
       "      <td>0.0</td>\n",
       "      <td>0.0</td>\n",
       "      <td>0.0</td>\n",
       "      <td>0.0</td>\n",
       "      <td>0.0</td>\n",
       "      <td>0.0</td>\n",
       "      <td>0.0</td>\n",
       "      <td>0.0</td>\n",
       "      <td>0.0</td>\n",
       "    </tr>\n",
       "  </tbody>\n",
       "</table>\n",
       "<p>5 rows × 112 columns</p>\n",
       "</div>"
      ],
      "text/plain": [
       "       uid  funds_channel_id          tel  label server_date  \\\n",
       "0    72994              3038  18166584910      1  2020-08-05   \n",
       "1    72994              3038  18166584910      0  2020-08-07   \n",
       "2    72994              3038  18166584910      0  2020-08-06   \n",
       "3    72994              3038  18166584910      0  2020-08-09   \n",
       "4  3669592              3038  13802429600      0  2020-08-05   \n",
       "\n",
       "   credit_line_level_1  credit_line_level_2  credit_line_level_3  \\\n",
       "0                    0                    1                    0   \n",
       "1                    0                    1                    0   \n",
       "2                    0                    1                    0   \n",
       "3                    0                    1                    0   \n",
       "4                    0                    0                    1   \n",
       "\n",
       "   credit_line_level_4  credit_line_level_5  ...  company_occupation_1  \\\n",
       "0                    0                    0  ...                   0.0   \n",
       "1                    0                    0  ...                   0.0   \n",
       "2                    0                    0  ...                   0.0   \n",
       "3                    0                    0  ...                   0.0   \n",
       "4                    0                    0  ...                   0.0   \n",
       "\n",
       "   company_occupation_2  company_occupation_3  company_occupation_4  \\\n",
       "0                   0.0                   0.0                   0.0   \n",
       "1                   0.0                   0.0                   0.0   \n",
       "2                   0.0                   0.0                   0.0   \n",
       "3                   0.0                   0.0                   0.0   \n",
       "4                   0.0                   0.0                   0.0   \n",
       "\n",
       "   company_occupation_5  company_occupation_6  company_occupation_7  \\\n",
       "0                   0.0                   0.0                   0.0   \n",
       "1                   0.0                   0.0                   0.0   \n",
       "2                   0.0                   0.0                   0.0   \n",
       "3                   0.0                   0.0                   0.0   \n",
       "4                   0.0                   0.0                   0.0   \n",
       "\n",
       "   company_occupation_8  company_occupation_9  is_businessman  \n",
       "0                   0.0                   0.0             0.0  \n",
       "1                   0.0                   0.0             0.0  \n",
       "2                   0.0                   0.0             0.0  \n",
       "3                   0.0                   0.0             0.0  \n",
       "4                   0.0                   0.0             0.0  \n",
       "\n",
       "[5 rows x 112 columns]"
      ]
     },
     "execution_count": 7,
     "metadata": {},
     "output_type": "execute_result"
    }
   ],
   "source": [
    "fm_data.head()"
   ]
  },
  {
   "cell_type": "code",
   "execution_count": 8,
   "metadata": {
    "Collapsed": "false"
   },
   "outputs": [],
   "source": [
    "def onhot(threshold1, x):\n",
    "    if int(x) < 0.5:\n",
    "        return 0\n",
    "    elif int(x) >= 0.5:\n",
    "        return 1\n",
    "fm_data['is_businessman'] = fm_data['is_businessman'].apply(lambda x:onhot(0.5,x))"
   ]
  },
  {
   "cell_type": "code",
   "execution_count": 9,
   "metadata": {
    "Collapsed": "false"
   },
   "outputs": [
    {
     "data": {
      "text/plain": [
       "0    3514589\n",
       "1      66995\n",
       "Name: is_businessman, dtype: int64"
      ]
     },
     "execution_count": 9,
     "metadata": {},
     "output_type": "execute_result"
    }
   ],
   "source": [
    "fm_data['is_businessman'].value_counts()"
   ]
  },
  {
   "cell_type": "code",
   "execution_count": 10,
   "metadata": {
    "Collapsed": "false"
   },
   "outputs": [],
   "source": [
    "train_info = pd.read_csv(train_info_path)\n",
    "test1_info = pd.read_csv(test1_info_path)\n",
    "test_info = pd.read_csv(test_info_path)"
   ]
  },
  {
   "cell_type": "code",
   "execution_count": 11,
   "metadata": {
    "Collapsed": "false"
   },
   "outputs": [
    {
     "data": {
      "text/plain": [
       "((812883, 4), (90320, 4), (96797, 4))"
      ]
     },
     "execution_count": 11,
     "metadata": {},
     "output_type": "execute_result"
    }
   ],
   "source": [
    "train_info.shape,test1_info.shape,test_info.shape"
   ]
  },
  {
   "cell_type": "code",
   "execution_count": 12,
   "metadata": {
    "Collapsed": "false"
   },
   "outputs": [],
   "source": [
    "seq_info = pd.concat([train_info,test1_info,test_info],axis=0)\n",
    "seq_info = seq_info.reset_index(drop=True)\n",
    "train_index = seq_info.index.to_list()[:train_info.shape[0]]\n",
    "test1_index = seq_info.index.to_list()[train_info.shape[0]:train_info.shape[0]+test1_info.shape[0]]\n",
    "test_index = seq_info.index.to_list()[train_info.shape[0]+test1_info.shape[0]:]"
   ]
  },
  {
   "cell_type": "code",
   "execution_count": 13,
   "metadata": {
    "Collapsed": "false"
   },
   "outputs": [
    {
     "data": {
      "text/plain": [
       "(812883, 90320, 96797)"
      ]
     },
     "execution_count": 13,
     "metadata": {},
     "output_type": "execute_result"
    }
   ],
   "source": [
    "len(train_index),len(test1_index),len(test_index)"
   ]
  },
  {
   "cell_type": "code",
   "execution_count": 14,
   "metadata": {
    "Collapsed": "false"
   },
   "outputs": [],
   "source": [
    "fm_data = fm_data.drop_duplicates(subset=['uid', 'server_date'], keep='first' )"
   ]
  },
  {
   "cell_type": "code",
   "execution_count": 15,
   "metadata": {
    "Collapsed": "false"
   },
   "outputs": [
    {
     "data": {
      "text/plain": [
       "(3580248, 112)"
      ]
     },
     "execution_count": 15,
     "metadata": {},
     "output_type": "execute_result"
    }
   ],
   "source": [
    "fm_data.shape"
   ]
  },
  {
   "cell_type": "code",
   "execution_count": 16,
   "metadata": {
    "Collapsed": "false"
   },
   "outputs": [],
   "source": [
    "del fm_data['label']"
   ]
  },
  {
   "cell_type": "code",
   "execution_count": 17,
   "metadata": {
    "Collapsed": "false"
   },
   "outputs": [
    {
     "name": "stdout",
     "output_type": "stream",
     "text": [
      "GET TRAIN AND TEST INDEX FINISH!\n"
     ]
    }
   ],
   "source": [
    "fm_feature = pd.merge(seq_info, fm_data, on=['uid', 'server_date'],how='left')\n",
    "print(\"GET TRAIN AND TEST INDEX FINISH!\")"
   ]
  },
  {
   "cell_type": "code",
   "execution_count": 18,
   "metadata": {
    "Collapsed": "false"
   },
   "outputs": [
    {
     "data": {
      "text/html": [
       "<div>\n",
       "<style scoped>\n",
       "    .dataframe tbody tr th:only-of-type {\n",
       "        vertical-align: middle;\n",
       "    }\n",
       "\n",
       "    .dataframe tbody tr th {\n",
       "        vertical-align: top;\n",
       "    }\n",
       "\n",
       "    .dataframe thead th {\n",
       "        text-align: right;\n",
       "    }\n",
       "</style>\n",
       "<table border=\"1\" class=\"dataframe\">\n",
       "  <thead>\n",
       "    <tr style=\"text-align: right;\">\n",
       "      <th></th>\n",
       "      <th>Unnamed: 0</th>\n",
       "      <th>uid</th>\n",
       "      <th>server_date</th>\n",
       "      <th>label</th>\n",
       "    </tr>\n",
       "  </thead>\n",
       "  <tbody>\n",
       "    <tr>\n",
       "      <th>0</th>\n",
       "      <td>898222</td>\n",
       "      <td>282455617110016</td>\n",
       "      <td>2020-08-03</td>\n",
       "      <td>0</td>\n",
       "    </tr>\n",
       "    <tr>\n",
       "      <th>1</th>\n",
       "      <td>650466</td>\n",
       "      <td>580542639297822</td>\n",
       "      <td>2020-07-27</td>\n",
       "      <td>0</td>\n",
       "    </tr>\n",
       "    <tr>\n",
       "      <th>2</th>\n",
       "      <td>358339</td>\n",
       "      <td>282651709014016</td>\n",
       "      <td>2020-07-17</td>\n",
       "      <td>0</td>\n",
       "    </tr>\n",
       "    <tr>\n",
       "      <th>3</th>\n",
       "      <td>359217</td>\n",
       "      <td>282713642369026</td>\n",
       "      <td>2020-07-23</td>\n",
       "      <td>0</td>\n",
       "    </tr>\n",
       "    <tr>\n",
       "      <th>4</th>\n",
       "      <td>819911</td>\n",
       "      <td>284376788505052</td>\n",
       "      <td>2020-07-14</td>\n",
       "      <td>0</td>\n",
       "    </tr>\n",
       "  </tbody>\n",
       "</table>\n",
       "</div>"
      ],
      "text/plain": [
       "   Unnamed: 0              uid server_date  label\n",
       "0      898222  282455617110016  2020-08-03      0\n",
       "1      650466  580542639297822  2020-07-27      0\n",
       "2      358339  282651709014016  2020-07-17      0\n",
       "3      359217  282713642369026  2020-07-23      0\n",
       "4      819911  284376788505052  2020-07-14      0"
      ]
     },
     "execution_count": 18,
     "metadata": {},
     "output_type": "execute_result"
    }
   ],
   "source": [
    "seq_info.head()"
   ]
  },
  {
   "cell_type": "code",
   "execution_count": 19,
   "metadata": {
    "Collapsed": "false"
   },
   "outputs": [
    {
     "data": {
      "text/html": [
       "<div>\n",
       "<style scoped>\n",
       "    .dataframe tbody tr th:only-of-type {\n",
       "        vertical-align: middle;\n",
       "    }\n",
       "\n",
       "    .dataframe tbody tr th {\n",
       "        vertical-align: top;\n",
       "    }\n",
       "\n",
       "    .dataframe thead th {\n",
       "        text-align: right;\n",
       "    }\n",
       "</style>\n",
       "<table border=\"1\" class=\"dataframe\">\n",
       "  <thead>\n",
       "    <tr style=\"text-align: right;\">\n",
       "      <th></th>\n",
       "      <th>Unnamed: 0</th>\n",
       "      <th>uid</th>\n",
       "      <th>server_date</th>\n",
       "      <th>label</th>\n",
       "      <th>funds_channel_id</th>\n",
       "      <th>tel</th>\n",
       "      <th>credit_line_level_1</th>\n",
       "      <th>credit_line_level_2</th>\n",
       "      <th>credit_line_level_3</th>\n",
       "      <th>credit_line_level_4</th>\n",
       "      <th>...</th>\n",
       "      <th>company_occupation_1</th>\n",
       "      <th>company_occupation_2</th>\n",
       "      <th>company_occupation_3</th>\n",
       "      <th>company_occupation_4</th>\n",
       "      <th>company_occupation_5</th>\n",
       "      <th>company_occupation_6</th>\n",
       "      <th>company_occupation_7</th>\n",
       "      <th>company_occupation_8</th>\n",
       "      <th>company_occupation_9</th>\n",
       "      <th>is_businessman</th>\n",
       "    </tr>\n",
       "  </thead>\n",
       "  <tbody>\n",
       "    <tr>\n",
       "      <th>0</th>\n",
       "      <td>898222</td>\n",
       "      <td>282455617110016</td>\n",
       "      <td>2020-08-03</td>\n",
       "      <td>0</td>\n",
       "      <td>3024</td>\n",
       "      <td>13660786270</td>\n",
       "      <td>0</td>\n",
       "      <td>0</td>\n",
       "      <td>1</td>\n",
       "      <td>0</td>\n",
       "      <td>...</td>\n",
       "      <td>0.0</td>\n",
       "      <td>0.0</td>\n",
       "      <td>0.0</td>\n",
       "      <td>0.0</td>\n",
       "      <td>0.0</td>\n",
       "      <td>1.0</td>\n",
       "      <td>0.0</td>\n",
       "      <td>0.0</td>\n",
       "      <td>0.0</td>\n",
       "      <td>0</td>\n",
       "    </tr>\n",
       "    <tr>\n",
       "      <th>1</th>\n",
       "      <td>650466</td>\n",
       "      <td>580542639297822</td>\n",
       "      <td>2020-07-27</td>\n",
       "      <td>0</td>\n",
       "      <td>3018</td>\n",
       "      <td>18457901353</td>\n",
       "      <td>0</td>\n",
       "      <td>0</td>\n",
       "      <td>1</td>\n",
       "      <td>0</td>\n",
       "      <td>...</td>\n",
       "      <td>0.0</td>\n",
       "      <td>0.0</td>\n",
       "      <td>0.0</td>\n",
       "      <td>0.0</td>\n",
       "      <td>0.0</td>\n",
       "      <td>0.0</td>\n",
       "      <td>0.0</td>\n",
       "      <td>0.0</td>\n",
       "      <td>0.0</td>\n",
       "      <td>0</td>\n",
       "    </tr>\n",
       "    <tr>\n",
       "      <th>2</th>\n",
       "      <td>358339</td>\n",
       "      <td>282651709014016</td>\n",
       "      <td>2020-07-17</td>\n",
       "      <td>0</td>\n",
       "      <td>3015</td>\n",
       "      <td>13620085950</td>\n",
       "      <td>1</td>\n",
       "      <td>0</td>\n",
       "      <td>0</td>\n",
       "      <td>0</td>\n",
       "      <td>...</td>\n",
       "      <td>0.0</td>\n",
       "      <td>0.0</td>\n",
       "      <td>0.0</td>\n",
       "      <td>0.0</td>\n",
       "      <td>1.0</td>\n",
       "      <td>0.0</td>\n",
       "      <td>1.0</td>\n",
       "      <td>0.0</td>\n",
       "      <td>0.0</td>\n",
       "      <td>0</td>\n",
       "    </tr>\n",
       "    <tr>\n",
       "      <th>3</th>\n",
       "      <td>359217</td>\n",
       "      <td>282713642369026</td>\n",
       "      <td>2020-07-23</td>\n",
       "      <td>0</td>\n",
       "      <td>3024</td>\n",
       "      <td>18611783018</td>\n",
       "      <td>0</td>\n",
       "      <td>0</td>\n",
       "      <td>1</td>\n",
       "      <td>0</td>\n",
       "      <td>...</td>\n",
       "      <td>0.0</td>\n",
       "      <td>0.0</td>\n",
       "      <td>0.0</td>\n",
       "      <td>0.0</td>\n",
       "      <td>0.0</td>\n",
       "      <td>0.0</td>\n",
       "      <td>0.0</td>\n",
       "      <td>0.0</td>\n",
       "      <td>0.0</td>\n",
       "      <td>0</td>\n",
       "    </tr>\n",
       "    <tr>\n",
       "      <th>4</th>\n",
       "      <td>819911</td>\n",
       "      <td>284376788505052</td>\n",
       "      <td>2020-07-14</td>\n",
       "      <td>0</td>\n",
       "      <td>3021</td>\n",
       "      <td>15269760051</td>\n",
       "      <td>0</td>\n",
       "      <td>0</td>\n",
       "      <td>1</td>\n",
       "      <td>0</td>\n",
       "      <td>...</td>\n",
       "      <td>0.0</td>\n",
       "      <td>0.0</td>\n",
       "      <td>0.0</td>\n",
       "      <td>0.0</td>\n",
       "      <td>0.0</td>\n",
       "      <td>0.0</td>\n",
       "      <td>0.0</td>\n",
       "      <td>0.0</td>\n",
       "      <td>0.0</td>\n",
       "      <td>0</td>\n",
       "    </tr>\n",
       "  </tbody>\n",
       "</table>\n",
       "<p>5 rows × 113 columns</p>\n",
       "</div>"
      ],
      "text/plain": [
       "   Unnamed: 0              uid server_date  label  funds_channel_id  \\\n",
       "0      898222  282455617110016  2020-08-03      0              3024   \n",
       "1      650466  580542639297822  2020-07-27      0              3018   \n",
       "2      358339  282651709014016  2020-07-17      0              3015   \n",
       "3      359217  282713642369026  2020-07-23      0              3024   \n",
       "4      819911  284376788505052  2020-07-14      0              3021   \n",
       "\n",
       "           tel  credit_line_level_1  credit_line_level_2  credit_line_level_3  \\\n",
       "0  13660786270                    0                    0                    1   \n",
       "1  18457901353                    0                    0                    1   \n",
       "2  13620085950                    1                    0                    0   \n",
       "3  18611783018                    0                    0                    1   \n",
       "4  15269760051                    0                    0                    1   \n",
       "\n",
       "   credit_line_level_4  ...  company_occupation_1  company_occupation_2  \\\n",
       "0                    0  ...                   0.0                   0.0   \n",
       "1                    0  ...                   0.0                   0.0   \n",
       "2                    0  ...                   0.0                   0.0   \n",
       "3                    0  ...                   0.0                   0.0   \n",
       "4                    0  ...                   0.0                   0.0   \n",
       "\n",
       "   company_occupation_3  company_occupation_4  company_occupation_5  \\\n",
       "0                   0.0                   0.0                   0.0   \n",
       "1                   0.0                   0.0                   0.0   \n",
       "2                   0.0                   0.0                   1.0   \n",
       "3                   0.0                   0.0                   0.0   \n",
       "4                   0.0                   0.0                   0.0   \n",
       "\n",
       "   company_occupation_6  company_occupation_7  company_occupation_8  \\\n",
       "0                   1.0                   0.0                   0.0   \n",
       "1                   0.0                   0.0                   0.0   \n",
       "2                   0.0                   1.0                   0.0   \n",
       "3                   0.0                   0.0                   0.0   \n",
       "4                   0.0                   0.0                   0.0   \n",
       "\n",
       "   company_occupation_9  is_businessman  \n",
       "0                   0.0               0  \n",
       "1                   0.0               0  \n",
       "2                   0.0               0  \n",
       "3                   0.0               0  \n",
       "4                   0.0               0  \n",
       "\n",
       "[5 rows x 113 columns]"
      ]
     },
     "execution_count": 19,
     "metadata": {},
     "output_type": "execute_result"
    }
   ],
   "source": [
    "fm_feature.head()"
   ]
  },
  {
   "cell_type": "code",
   "execution_count": 24,
   "metadata": {
    "Collapsed": "false"
   },
   "outputs": [
    {
     "name": "stdout",
     "output_type": "stream",
     "text": [
      "credit_line_level_1\n",
      "credit_line_level_2\n",
      "credit_line_level_3\n",
      "credit_line_level_4\n",
      "credit_line_level_5\n",
      "credit_line_level_6\n",
      "current_drip_interest_rate_level_1\n",
      "current_drip_interest_rate_level_2\n",
      "current_drip_interest_rate_level_3\n",
      "current_drip_interest_rate_level_4\n",
      "current_drip_interest_rate_level_5\n",
      "current_drip_interest_rate_level_6\n",
      "current_drip_interest_rate_level_7\n",
      "current_drip_interest_rate_level_8\n",
      "current_drip_credit_line_balance_level_1\n",
      "current_drip_credit_line_balance_level_2\n",
      "current_drip_credit_line_balance_level_3\n",
      "current_drip_credit_line_balance_level_4\n",
      "current_drip_credit_line_balance_level_5\n",
      "current_drip_credit_line_balance_level_6\n",
      "plan_amount_level_1\n",
      "plan_amount_level_2\n",
      "plan_amount_level_3\n",
      "plan_amount_level_4\n",
      "plan_amount_level_5\n",
      "plan_amount_level_6\n",
      "plan_amount_level_7\n",
      "plan_amount_level_8\n",
      "plan_amount_level_9\n",
      "duration_num_level_1\n",
      "duration_num_level_2\n",
      "duration_num_level_3\n",
      "duration_num_level_4\n",
      "duration_num_level_5\n",
      "duration_num_level_6\n",
      "current_valid_coupon_num_level_1\n",
      "current_valid_coupon_num_level_2\n",
      "current_valid_coupon_num_level_3\n",
      "current_valid_coupon_num_level_4\n",
      "last_credit_success_start_time_level_1\n",
      "last_credit_success_start_time_level_2\n",
      "last_credit_success_start_time_level_3\n",
      "last_credit_success_start_time_level_4\n",
      "last_credit_success_start_time_level_5\n",
      "last_credit_success_end_time_level_6\n",
      "fin_age_level_1\n",
      "fin_age_level_2\n",
      "fin_age_level_3\n",
      "fin_age_level_4\n",
      "fin_age_level_5\n",
      "fin_age_level_6\n",
      "fin_age_level_7\n",
      "fin_age_level_8\n",
      "is_beatles_driver\n",
      "coin_level_1\n",
      "coin_level_2\n",
      "coin_level_3\n",
      "coin_level_4\n",
      "coin_level_5\n",
      "coin_level_6\n",
      "coin_level_7\n",
      "coin_level_8\n",
      "first_call_days_level_1\n",
      "first_call_days_level_2\n",
      "first_call_days_level_3\n",
      "first_call_days_level_4\n",
      "first_call_days_level_5\n",
      "first_call_days_level_6\n",
      "first_call_days_level_7\n",
      "hit_loan_app_cnt_level_1\n",
      "hit_loan_app_cnt_level_2\n",
      "hit_loan_app_cnt_level_3\n",
      "hit_loan_app_cnt_level_4\n",
      "hit_loan_app_cnt_level_5\n",
      "price_rank_level_1\n",
      "price_rank_level_2\n",
      "price_rank_level_3\n",
      "price_rank_level_4\n",
      "price_rank_level_5\n",
      "ratio_6_level_1\n",
      "ratio_6_level_2\n",
      "ratio_6_level_3\n",
      "ratio_6_level_4\n",
      "ratio_6_level_5\n",
      "last_6_month_drip_loan_num_level_1\n",
      "last_6_month_drip_loan_num_level_2\n",
      "last_6_month_drip_loan_num_level_3\n",
      "last_6_month_drip_loan_num_level_4\n",
      "last_6_month_drip_loan_num_level_5\n",
      "last_6_month_drip_loan_money_level_1\n",
      "last_6_month_drip_loan_money_level_2\n",
      "last_6_month_drip_loan_money_level_3\n",
      "last_6_month_drip_loan_money_level_4\n",
      "last_6_month_drip_loan_money_level_5\n",
      "last_6_month_drip_loan_money_level_6\n",
      "pas_sex\n",
      "is_fast_or_gulf_driver\n",
      "company_occupation_1\n",
      "company_occupation_2\n",
      "company_occupation_3\n",
      "company_occupation_4\n",
      "company_occupation_5\n",
      "company_occupation_6\n",
      "company_occupation_7\n",
      "company_occupation_8\n",
      "company_occupation_9\n",
      "is_businessman\n"
     ]
    }
   ],
   "source": [
    "for x in fm_feature.columns[6:]:\n",
    "    print(x)"
   ]
  },
  {
   "cell_type": "code",
   "execution_count": 20,
   "metadata": {
    "Collapsed": "false"
   },
   "outputs": [],
   "source": [
    "sub_cols_user_fins = [\n",
    "'last_credit_success_start_time_level_1',\n",
    "'last_credit_success_start_time_level_2',\n",
    "'last_credit_success_start_time_level_3',\n",
    "'last_credit_success_start_time_level_4',\n",
    "'last_credit_success_start_time_level_5',\n",
    "'last_credit_success_end_time_level_6',\n",
    "'ratio_6_level_1',\n",
    "'ratio_6_level_2',\n",
    "'ratio_6_level_3',\n",
    "'ratio_6_level_4',\n",
    "'ratio_6_level_5',\n",
    "'last_6_month_drip_loan_num_level_1',\n",
    "'last_6_month_drip_loan_num_level_2',\n",
    "'last_6_month_drip_loan_num_level_3',\n",
    "'last_6_month_drip_loan_num_level_4',\n",
    "'last_6_month_drip_loan_num_level_5',\n",
    "'last_6_month_drip_loan_money_level_1',\n",
    "'last_6_month_drip_loan_money_level_2',\n",
    "'last_6_month_drip_loan_money_level_3',\n",
    "'last_6_month_drip_loan_money_level_4',\n",
    "'last_6_month_drip_loan_money_level_5',\n",
    "'last_6_month_drip_loan_money_level_6']"
   ]
  },
  {
   "cell_type": "code",
   "execution_count": 21,
   "metadata": {
    "Collapsed": "false"
   },
   "outputs": [],
   "source": [
    "fm_user_fins_feature_train = fm_feature.loc[train_index,sub_cols_user_fins]\n",
    "fm_user_fins_feature_test1 = fm_feature.loc[test1_index,sub_cols_user_fins]\n",
    "fm_user_fins_feature_test = fm_feature.loc[test_index,sub_cols_user_fins]"
   ]
  },
  {
   "cell_type": "code",
   "execution_count": 22,
   "metadata": {
    "Collapsed": "false"
   },
   "outputs": [],
   "source": [
    "sub_cols_user_people = ['fin_age_level_1',\n",
    "'fin_age_level_2',\n",
    "'fin_age_level_3',\n",
    "'fin_age_level_4',\n",
    "'fin_age_level_5',\n",
    "'fin_age_level_6',\n",
    "'fin_age_level_7',\n",
    "'fin_age_level_8',\n",
    "'is_beatles_driver',\n",
    "'coin_level_1',\n",
    "'coin_level_2',\n",
    "'coin_level_3',\n",
    "'coin_level_4',\n",
    "'coin_level_5',\n",
    "'coin_level_6',\n",
    "'coin_level_7',\n",
    "'coin_level_8',\n",
    "'first_call_days_level_1',\n",
    "'first_call_days_level_2',\n",
    "'first_call_days_level_3',\n",
    "'first_call_days_level_4',\n",
    "'first_call_days_level_5',\n",
    "'first_call_days_level_6',\n",
    "'first_call_days_level_7',\n",
    "'hit_loan_app_cnt_level_1',\n",
    "'hit_loan_app_cnt_level_2',\n",
    "'hit_loan_app_cnt_level_3',\n",
    "'hit_loan_app_cnt_level_4',\n",
    "'hit_loan_app_cnt_level_5',\n",
    "'price_rank_level_1',\n",
    "'price_rank_level_2',\n",
    "'price_rank_level_3',\n",
    "'price_rank_level_4',\n",
    "'price_rank_level_5',\n",
    "'pas_sex',\n",
    "'is_fast_or_gulf_driver',\n",
    "'company_occupation_1',\n",
    "'company_occupation_2',\n",
    "'company_occupation_3',\n",
    "'company_occupation_4',\n",
    "'company_occupation_5',\n",
    "'company_occupation_6',\n",
    "'company_occupation_7',\n",
    "'company_occupation_8',\n",
    "'company_occupation_9',\n",
    "'is_businessman']"
   ]
  },
  {
   "cell_type": "code",
   "execution_count": 23,
   "metadata": {
    "Collapsed": "false"
   },
   "outputs": [],
   "source": [
    "fm_user_people_feature_train = fm_feature.loc[train_index,sub_cols_user_people]\n",
    "fm_user_people_feature_test1 = fm_feature.loc[test1_index,sub_cols_user_people]\n",
    "fm_user_people_feature_test = fm_feature.loc[test_index,sub_cols_user_people]"
   ]
  },
  {
   "cell_type": "code",
   "execution_count": 24,
   "metadata": {
    "Collapsed": "false"
   },
   "outputs": [
    {
     "name": "stdout",
     "output_type": "stream",
     "text": [
      "SPLIT INTO TRAIN AND TEST FINISH !\n"
     ]
    }
   ],
   "source": [
    "# 5.split into train and test \n",
    "fm_account_feature_train = fm_feature.iloc[train_index,  6:6+39]\n",
    "fm_account_feature_test1 = fm_feature.iloc[test1_index,  6:6+39]\n",
    "fm_account_feature_test = fm_feature.iloc[test_index,  6:6+39]\n",
    "print(\"SPLIT INTO TRAIN AND TEST FINISH !\")\n",
    "\n"
   ]
  },
  {
   "cell_type": "code",
   "execution_count": 25,
   "metadata": {
    "Collapsed": "false"
   },
   "outputs": [
    {
     "data": {
      "text/plain": [
       "((812883, 22), (90320, 22), (96797, 22))"
      ]
     },
     "execution_count": 25,
     "metadata": {},
     "output_type": "execute_result"
    }
   ],
   "source": [
    "fm_user_fins_feature_train.shape,fm_user_fins_feature_test1.shape,fm_user_fins_feature_test.shape,"
   ]
  },
  {
   "cell_type": "code",
   "execution_count": 26,
   "metadata": {
    "Collapsed": "false"
   },
   "outputs": [
    {
     "data": {
      "text/plain": [
       "((812883, 46), (90320, 46), (96797, 46))"
      ]
     },
     "execution_count": 26,
     "metadata": {},
     "output_type": "execute_result"
    }
   ],
   "source": [
    "fm_user_people_feature_train.shape,fm_user_people_feature_test1.shape,fm_user_people_feature_test.shape"
   ]
  },
  {
   "cell_type": "code",
   "execution_count": 27,
   "metadata": {
    "Collapsed": "false"
   },
   "outputs": [
    {
     "data": {
      "text/plain": [
       "((812883, 39), (90320, 39), (96797, 39))"
      ]
     },
     "execution_count": 27,
     "metadata": {},
     "output_type": "execute_result"
    }
   ],
   "source": [
    "fm_account_feature_train.shape,fm_account_feature_test1.shape,fm_account_feature_test.shape"
   ]
  },
  {
   "cell_type": "code",
   "execution_count": 35,
   "metadata": {
    "Collapsed": "false"
   },
   "outputs": [
    {
     "data": {
      "text/plain": [
       "107"
      ]
     },
     "execution_count": 35,
     "metadata": {},
     "output_type": "execute_result"
    }
   ],
   "source": [
    "22+46+39"
   ]
  },
  {
   "cell_type": "code",
   "execution_count": 28,
   "metadata": {
    "Collapsed": "false"
   },
   "outputs": [
    {
     "name": "stdout",
     "output_type": "stream",
     "text": [
      "SPLIT INTO TRAIN AND TEST FINISH !\n",
      "SAVE FINISH !\n"
     ]
    }
   ],
   "source": [
    "fm_feature_train = fm_feature.iloc[train_index,  6:]\n",
    "fm_feature_test1 = fm_feature.iloc[test1_index,  6:]\n",
    "fm_feature_test = fm_feature.iloc[test_index,  6:]\n",
    "print(\"SPLIT INTO TRAIN AND TEST FINISH !\")\n",
    "#  6.save\n",
    "np.save(fm_feature_train_norm_path,fm_feature_train)\n",
    "np.save(fm_feature_test1_norm_path,fm_feature_test1)\n",
    "np.save(fm_feature_test_norm_path,fm_feature_test)\n",
    "print(\"SAVE FINISH !\")"
   ]
  },
  {
   "cell_type": "code",
   "execution_count": 30,
   "metadata": {
    "Collapsed": "false"
   },
   "outputs": [],
   "source": [
    "# fm_feature_train.head()"
   ]
  },
  {
   "cell_type": "code",
   "execution_count": 31,
   "metadata": {
    "Collapsed": "false"
   },
   "outputs": [
    {
     "name": "stdout",
     "output_type": "stream",
     "text": [
      "SAVE FINISH !\n",
      "SAVE FINISH !\n",
      "SAVE FINISH !\n"
     ]
    }
   ],
   "source": [
    "np.save(fm_user_fins_feature_train_norm_path,fm_user_fins_feature_train)\n",
    "np.save(fm_user_fins_feature_test1_norm_path,fm_user_fins_feature_test1)\n",
    "np.save(fm_user_fins_feature_test_norm_path,fm_user_fins_feature_test)\n",
    "print(\"SAVE FINISH !\")\n",
    "np.save(fm_user_people_feature_train_norm_path,fm_user_people_feature_train)\n",
    "np.save(fm_user_people_feature_test1_norm_path,fm_user_people_feature_test1)\n",
    "np.save(fm_user_people_feature_test_norm_path,fm_user_people_feature_test)\n",
    "print(\"SAVE FINISH !\")\n",
    "np.save(fm_account_feature_train_norm_path,fm_account_feature_train)\n",
    "np.save(fm_account_feature_test1_norm_path,fm_account_feature_test1)\n",
    "np.save(fm_account_feature_test_norm_path,fm_account_feature_test)\n",
    "print(\"SAVE FINISH !\")"
   ]
  },
  {
   "cell_type": "code",
   "execution_count": null,
   "metadata": {
    "Collapsed": "false"
   },
   "outputs": [],
   "source": []
  }
 ],
 "metadata": {
  "kernelspec": {
   "display_name": "Python 3",
   "language": "python",
   "name": "python3"
  },
  "language_info": {
   "codemirror_mode": {
    "name": "ipython",
    "version": 3
   },
   "file_extension": ".py",
   "mimetype": "text/x-python",
   "name": "python",
   "nbconvert_exporter": "python",
   "pygments_lexer": "ipython3",
   "version": "3.7.4"
  }
 },
 "nbformat": 4,
 "nbformat_minor": 4
}
