{
 "cells": [
  {
   "cell_type": "markdown",
   "metadata": {
    "Collapsed": "true"
   },
   "source": [
    "# data analysis"
   ]
  },
  {
   "cell_type": "code",
   "execution_count": 1,
   "metadata": {
    "Collapsed": "false"
   },
   "outputs": [],
   "source": [
    "import pandas as pd\n",
    "import numpy as np\n",
    "import matplotlib.pyplot as plt\n",
    "import seaborn as sns"
   ]
  },
  {
   "cell_type": "code",
   "execution_count": 2,
   "metadata": {
    "Collapsed": "false"
   },
   "outputs": [],
   "source": [
    "data = pd.read_csv(\"./loan_demand_user_analysis.tsv\",sep='\\t')\n",
    "data.columns = [x.split('.')[1] for x in data.columns]"
   ]
  },
  {
   "cell_type": "code",
   "execution_count": 3,
   "metadata": {
    "Collapsed": "false"
   },
   "outputs": [
    {
     "data": {
      "text/html": [
       "<div>\n",
       "<style scoped>\n",
       "    .dataframe tbody tr th:only-of-type {\n",
       "        vertical-align: middle;\n",
       "    }\n",
       "\n",
       "    .dataframe tbody tr th {\n",
       "        vertical-align: top;\n",
       "    }\n",
       "\n",
       "    .dataframe thead th {\n",
       "        text-align: right;\n",
       "    }\n",
       "</style>\n",
       "<table border=\"1\" class=\"dataframe\">\n",
       "  <thead>\n",
       "    <tr style=\"text-align: right;\">\n",
       "      <th></th>\n",
       "      <th>uid</th>\n",
       "      <th>funds_channel_id</th>\n",
       "      <th>server_date</th>\n",
       "      <th>dsd_market_setup_sw_tag</th>\n",
       "      <th>dsd_loan_page_show_tag</th>\n",
       "      <th>dsd_loan_confirm_button_ck_tag</th>\n",
       "      <th>day_from_first_drip_disburse_succ_time</th>\n",
       "      <th>current_drip_credit_line</th>\n",
       "      <th>current_drip_credit_line_balance</th>\n",
       "      <th>current_drip_credit_line_use_rate</th>\n",
       "      <th>...</th>\n",
       "      <th>curren_drip_overdue_day_max</th>\n",
       "      <th>loan_model_v2_overdue_score</th>\n",
       "      <th>loan_model_v2_fraud_score</th>\n",
       "      <th>last_3_month_hit_pkg_prefix_cnt</th>\n",
       "      <th>last_3_month_hit_pkg_loan_cnt</th>\n",
       "      <th>last_3_month_hit_app_gamble_cnt</th>\n",
       "      <th>last_3_month_fastgulf_passenger_finish_order_actual_cost</th>\n",
       "      <th>last_30_day_fastgulf_passenger_finish_order_actual_cost</th>\n",
       "      <th>last_3_month_category_medicalcare_clinic_orders</th>\n",
       "      <th>last_3_month_category_finance_orders</th>\n",
       "    </tr>\n",
       "  </thead>\n",
       "  <tbody>\n",
       "    <tr>\n",
       "      <th>0</th>\n",
       "      <td>100299</td>\n",
       "      <td>3038.0</td>\n",
       "      <td>2020-07-12</td>\n",
       "      <td>0</td>\n",
       "      <td>1</td>\n",
       "      <td>1</td>\n",
       "      <td>172.0</td>\n",
       "      <td>16000.0</td>\n",
       "      <td>6046.76</td>\n",
       "      <td>0.62</td>\n",
       "      <td>...</td>\n",
       "      <td>0.0</td>\n",
       "      <td>NaN</td>\n",
       "      <td>NaN</td>\n",
       "      <td>NaN</td>\n",
       "      <td>NaN</td>\n",
       "      <td>NaN</td>\n",
       "      <td>NaN</td>\n",
       "      <td>NaN</td>\n",
       "      <td>NaN</td>\n",
       "      <td>NaN</td>\n",
       "    </tr>\n",
       "    <tr>\n",
       "      <th>1</th>\n",
       "      <td>10071683</td>\n",
       "      <td>NaN</td>\n",
       "      <td>2020-07-11</td>\n",
       "      <td>0</td>\n",
       "      <td>0</td>\n",
       "      <td>0</td>\n",
       "      <td>NaN</td>\n",
       "      <td>NaN</td>\n",
       "      <td>NaN</td>\n",
       "      <td>NaN</td>\n",
       "      <td>...</td>\n",
       "      <td>NaN</td>\n",
       "      <td>NaN</td>\n",
       "      <td>NaN</td>\n",
       "      <td>NaN</td>\n",
       "      <td>NaN</td>\n",
       "      <td>NaN</td>\n",
       "      <td>NaN</td>\n",
       "      <td>NaN</td>\n",
       "      <td>NaN</td>\n",
       "      <td>NaN</td>\n",
       "    </tr>\n",
       "    <tr>\n",
       "      <th>2</th>\n",
       "      <td>10078453</td>\n",
       "      <td>3038.0</td>\n",
       "      <td>2020-07-10</td>\n",
       "      <td>0</td>\n",
       "      <td>1</td>\n",
       "      <td>1</td>\n",
       "      <td>178.0</td>\n",
       "      <td>12000.0</td>\n",
       "      <td>7032.41</td>\n",
       "      <td>0.41</td>\n",
       "      <td>...</td>\n",
       "      <td>0.0</td>\n",
       "      <td>NaN</td>\n",
       "      <td>NaN</td>\n",
       "      <td>NaN</td>\n",
       "      <td>NaN</td>\n",
       "      <td>NaN</td>\n",
       "      <td>NaN</td>\n",
       "      <td>NaN</td>\n",
       "      <td>NaN</td>\n",
       "      <td>NaN</td>\n",
       "    </tr>\n",
       "    <tr>\n",
       "      <th>3</th>\n",
       "      <td>10155339</td>\n",
       "      <td>3027.0</td>\n",
       "      <td>2020-07-15</td>\n",
       "      <td>1</td>\n",
       "      <td>0</td>\n",
       "      <td>0</td>\n",
       "      <td>11.0</td>\n",
       "      <td>7400.0</td>\n",
       "      <td>0.00</td>\n",
       "      <td>1.00</td>\n",
       "      <td>...</td>\n",
       "      <td>0.0</td>\n",
       "      <td>NaN</td>\n",
       "      <td>NaN</td>\n",
       "      <td>NaN</td>\n",
       "      <td>NaN</td>\n",
       "      <td>NaN</td>\n",
       "      <td>NaN</td>\n",
       "      <td>NaN</td>\n",
       "      <td>NaN</td>\n",
       "      <td>NaN</td>\n",
       "    </tr>\n",
       "    <tr>\n",
       "      <th>4</th>\n",
       "      <td>10364749</td>\n",
       "      <td>3038.0</td>\n",
       "      <td>2020-07-13</td>\n",
       "      <td>0</td>\n",
       "      <td>0</td>\n",
       "      <td>0</td>\n",
       "      <td>81.0</td>\n",
       "      <td>5000.0</td>\n",
       "      <td>490.65</td>\n",
       "      <td>0.90</td>\n",
       "      <td>...</td>\n",
       "      <td>0.0</td>\n",
       "      <td>NaN</td>\n",
       "      <td>NaN</td>\n",
       "      <td>NaN</td>\n",
       "      <td>NaN</td>\n",
       "      <td>NaN</td>\n",
       "      <td>NaN</td>\n",
       "      <td>NaN</td>\n",
       "      <td>NaN</td>\n",
       "      <td>NaN</td>\n",
       "    </tr>\n",
       "  </tbody>\n",
       "</table>\n",
       "<p>5 rows × 26 columns</p>\n",
       "</div>"
      ],
      "text/plain": [
       "        uid  funds_channel_id server_date  dsd_market_setup_sw_tag  \\\n",
       "0    100299            3038.0  2020-07-12                        0   \n",
       "1  10071683               NaN  2020-07-11                        0   \n",
       "2  10078453            3038.0  2020-07-10                        0   \n",
       "3  10155339            3027.0  2020-07-15                        1   \n",
       "4  10364749            3038.0  2020-07-13                        0   \n",
       "\n",
       "   dsd_loan_page_show_tag  dsd_loan_confirm_button_ck_tag  \\\n",
       "0                       1                               1   \n",
       "1                       0                               0   \n",
       "2                       1                               1   \n",
       "3                       0                               0   \n",
       "4                       0                               0   \n",
       "\n",
       "   day_from_first_drip_disburse_succ_time  current_drip_credit_line  \\\n",
       "0                                   172.0                   16000.0   \n",
       "1                                     NaN                       NaN   \n",
       "2                                   178.0                   12000.0   \n",
       "3                                    11.0                    7400.0   \n",
       "4                                    81.0                    5000.0   \n",
       "\n",
       "   current_drip_credit_line_balance  current_drip_credit_line_use_rate  ...  \\\n",
       "0                           6046.76                               0.62  ...   \n",
       "1                               NaN                                NaN  ...   \n",
       "2                           7032.41                               0.41  ...   \n",
       "3                              0.00                               1.00  ...   \n",
       "4                            490.65                               0.90  ...   \n",
       "\n",
       "   curren_drip_overdue_day_max  loan_model_v2_overdue_score  \\\n",
       "0                          0.0                          NaN   \n",
       "1                          NaN                          NaN   \n",
       "2                          0.0                          NaN   \n",
       "3                          0.0                          NaN   \n",
       "4                          0.0                          NaN   \n",
       "\n",
       "   loan_model_v2_fraud_score  last_3_month_hit_pkg_prefix_cnt  \\\n",
       "0                        NaN                              NaN   \n",
       "1                        NaN                              NaN   \n",
       "2                        NaN                              NaN   \n",
       "3                        NaN                              NaN   \n",
       "4                        NaN                              NaN   \n",
       "\n",
       "   last_3_month_hit_pkg_loan_cnt  last_3_month_hit_app_gamble_cnt  \\\n",
       "0                            NaN                              NaN   \n",
       "1                            NaN                              NaN   \n",
       "2                            NaN                              NaN   \n",
       "3                            NaN                              NaN   \n",
       "4                            NaN                              NaN   \n",
       "\n",
       "   last_3_month_fastgulf_passenger_finish_order_actual_cost  \\\n",
       "0                                                NaN          \n",
       "1                                                NaN          \n",
       "2                                                NaN          \n",
       "3                                                NaN          \n",
       "4                                                NaN          \n",
       "\n",
       "   last_30_day_fastgulf_passenger_finish_order_actual_cost  \\\n",
       "0                                                NaN         \n",
       "1                                                NaN         \n",
       "2                                                NaN         \n",
       "3                                                NaN         \n",
       "4                                                NaN         \n",
       "\n",
       "   last_3_month_category_medicalcare_clinic_orders  \\\n",
       "0                                              NaN   \n",
       "1                                              NaN   \n",
       "2                                              NaN   \n",
       "3                                              NaN   \n",
       "4                                              NaN   \n",
       "\n",
       "   last_3_month_category_finance_orders  \n",
       "0                                   NaN  \n",
       "1                                   NaN  \n",
       "2                                   NaN  \n",
       "3                                   NaN  \n",
       "4                                   NaN  \n",
       "\n",
       "[5 rows x 26 columns]"
      ]
     },
     "execution_count": 3,
     "metadata": {},
     "output_type": "execute_result"
    }
   ],
   "source": [
    "data.head()"
   ]
  },
  {
   "cell_type": "code",
   "execution_count": 4,
   "metadata": {
    "Collapsed": "false"
   },
   "outputs": [
    {
     "data": {
      "text/plain": [
       "Index(['uid', 'funds_channel_id', 'server_date', 'dsd_market_setup_sw_tag',\n",
       "       'dsd_loan_page_show_tag', 'dsd_loan_confirm_button_ck_tag',\n",
       "       'day_from_first_drip_disburse_succ_time', 'current_drip_credit_line',\n",
       "       'current_drip_credit_line_balance', 'current_drip_credit_line_use_rate',\n",
       "       'current_drip_interest_rate', 'last_30_day_drip_loan_num',\n",
       "       'last_3_month_drip_loan_num', 'last_30_day_drip_loan_money',\n",
       "       'last_3_month_drip_loan_money', 'current_drip_in_loan_money',\n",
       "       'curren_drip_overdue_day_max', 'loan_model_v2_overdue_score',\n",
       "       'loan_model_v2_fraud_score', 'last_3_month_hit_pkg_prefix_cnt',\n",
       "       'last_3_month_hit_pkg_loan_cnt', 'last_3_month_hit_app_gamble_cnt',\n",
       "       'last_3_month_fastgulf_passenger_finish_order_actual_cost',\n",
       "       'last_30_day_fastgulf_passenger_finish_order_actual_cost',\n",
       "       'last_3_month_category_medicalcare_clinic_orders',\n",
       "       'last_3_month_category_finance_orders'],\n",
       "      dtype='object')"
      ]
     },
     "execution_count": 4,
     "metadata": {},
     "output_type": "execute_result"
    }
   ],
   "source": [
    "data.columns"
   ]
  },
  {
   "cell_type": "code",
   "execution_count": 5,
   "metadata": {
    "Collapsed": "false"
   },
   "outputs": [],
   "source": [
    "data['current_drip_credit_line_balance_rate'] =1- data['current_drip_credit_line_balance'] / data['current_drip_credit_line']"
   ]
  },
  {
   "cell_type": "code",
   "execution_count": 9,
   "metadata": {
    "Collapsed": "false"
   },
   "outputs": [],
   "source": [
    "data = data[(data['current_drip_credit_line_balance_rate']>=0) & (data['current_drip_credit_line_balance_rate']<=1)]"
   ]
  },
  {
   "cell_type": "code",
   "execution_count": 279,
   "metadata": {
    "Collapsed": "false"
   },
   "outputs": [],
   "source": [
    "data['month_from_first_loan'] = data['day_from_first_drip_disburse_succ_time']//30"
   ]
  },
  {
   "cell_type": "code",
   "execution_count": 288,
   "metadata": {
    "Collapsed": "false"
   },
   "outputs": [],
   "source": [
    "def gen_bin_set(data_set, x):\n",
    "#     cuts = np.arange(int(10), 100, int(10))\n",
    "#     cut_old = np.percentile(data_set['current_drip_credit_line_use_rate'], cuts) \n",
    "    bins=10\n",
    "    umax=data_set[x].max()\n",
    "    umin=data_set[x].min()\n",
    "    umax=40\n",
    "    step=(umax-umin)/bins\n",
    "    fre_list=[umin+i*step for i in range(bins+1)]\n",
    "    \n",
    "    br_old = data_set.groupby(pd.cut(data_set[x], fre_list))['dsd_loan_confirm_button_ck_tag'].mean()\n",
    "    df = pd.DataFrame({'confirm_rate': br_old})\n",
    "    return df"
   ]
  },
  {
   "cell_type": "code",
   "execution_count": 452,
   "metadata": {
    "Collapsed": "false"
   },
   "outputs": [],
   "source": [
    "data_1 = data[(data['current_drip_credit_line']>20000) & (data['current_drip_credit_line']>150000) ]"
   ]
  },
  {
   "cell_type": "code",
   "execution_count": 453,
   "metadata": {
    "Collapsed": "false"
   },
   "outputs": [
    {
     "data": {
      "text/plain": [
       "3015.0    18381\n",
       "3021.0    10153\n",
       "3027.0     1501\n",
       "3050.0      133\n",
       "3026.0        6\n",
       "3023.0        1\n",
       "Name: funds_channel_id, dtype: int64"
      ]
     },
     "execution_count": 453,
     "metadata": {},
     "output_type": "execute_result"
    }
   ],
   "source": [
    "data_1['funds_channel_id'].value_counts()"
   ]
  },
  {
   "cell_type": "code",
   "execution_count": null,
   "metadata": {
    "Collapsed": "false"
   },
   "outputs": [],
   "source": []
  },
  {
   "cell_type": "code",
   "execution_count": 454,
   "metadata": {
    "Collapsed": "false"
   },
   "outputs": [],
   "source": [
    "df = gen_bin_set(data_1,'month_from_first_loan')"
   ]
  },
  {
   "cell_type": "code",
   "execution_count": 455,
   "metadata": {
    "Collapsed": "false"
   },
   "outputs": [
    {
     "data": {
      "image/png": "[encoded data removed]",
      "text/plain": [
       "<Figure size 432x288 with 1 Axes>"
      ]
     },
     "metadata": {
      "needs_background": "light"
     },
     "output_type": "display_data"
    }
   ],
   "source": [
    "df['confirm_rate'].plot(kind='bar')\n",
    "plt.title(\"confirm rate\")\n",
    "plt.show()"
   ]
  },
  {
   "cell_type": "code",
   "execution_count": null,
   "metadata": {
    "Collapsed": "false"
   },
   "outputs": [],
   "source": []
  },
  {
   "cell_type": "code",
   "execution_count": 177,
   "metadata": {
    "Collapsed": "false"
   },
   "outputs": [],
   "source": [
    "data_4 = data[(data['current_drip_credit_line']==10000) & (data['loan_model_v2_overdue_score']>600) ]"
   ]
  },
  {
   "cell_type": "code",
   "execution_count": 176,
   "metadata": {
    "Collapsed": "false"
   },
   "outputs": [
    {
     "name": "stderr",
     "output_type": "stream",
     "text": [
      "/user/local/miniconda3/lib/python3.7/site-packages/ipykernel_launcher.py:1: SettingWithCopyWarning: \n",
      "A value is trying to be set on a copy of a slice from a DataFrame.\n",
      "Try using .loc[row_indexer,col_indexer] = value instead\n",
      "\n",
      "See the caveats in the documentation: http://pandas.pydata.org/pandas-docs/stable/indexing.html#indexing-view-versus-copy\n",
      "  \"\"\"Entry point for launching an IPython kernel.\n"
     ]
    }
   ],
   "source": [
    "# data_4['current_drip_interest_rate'] = data_4['current_drip_interest_rate'].fillna(0)"
   ]
  },
  {
   "cell_type": "code",
   "execution_count": 182,
   "metadata": {
    "Collapsed": "false"
   },
   "outputs": [
    {
     "data": {
      "text/plain": [
       "<matplotlib.axes._subplots.AxesSubplot at 0x7f2ce8080110>"
      ]
     },
     "execution_count": 182,
     "metadata": {},
     "output_type": "execute_result"
    },
    {
     "data": {
      "image/png": "[encoded data removed]",
      "text/plain": [
       "<Figure size 720x432 with 1 Axes>"
      ]
     },
     "metadata": {
      "needs_background": "light"
     },
     "output_type": "display_data"
    }
   ],
   "source": [
    "f, ax1 = plt.subplots(1, 1, sharex=True, figsize=(10, 6))\n",
    "\n",
    "sns.distplot(data_4[data_4['dsd_loan_confirm_button_ck_tag'] == 0]['current_drip_interest_rate'],bins=50,color=\"g\",kde_kws={\"label\": \"label=0\"})\n",
    "sns.distplot(data_4[data_4['dsd_loan_confirm_button_ck_tag'] == 1]['current_drip_interest_rate'],bins=50,color=\"r\",kde_kws={\"label\": \"label=1\"})\n",
    "sns.distplot(data_4['current_drip_interest_rate'],bins=100,color=\"y\",kde_kws={\"label\": \"all\"})\n",
    "\n"
   ]
  },
  {
   "cell_type": "markdown",
   "metadata": {
    "Collapsed": "true"
   },
   "source": [
    "# Tree"
   ]
  },
  {
   "cell_type": "code",
   "execution_count": 1,
   "metadata": {
    "Collapsed": "false"
   },
   "outputs": [],
   "source": [
    "import os\n",
    "from sklearn import tree\n",
    "import pydotplus \n",
    "from IPython.display import Image\n",
    "import pandas as pd\n",
    "import numpy as np\n",
    "from pandas import DataFrame\n",
    "from pandas import Series\n",
    "import random\n",
    "from sklearn.externals import joblib\n",
    "from scipy.stats import ks_2samp\n",
    "from sklearn.metrics import roc_curve,auc\n",
    "from sklearn.model_selection import train_test_split"
   ]
  },
  {
   "cell_type": "code",
   "execution_count": 2,
   "metadata": {
    "Collapsed": "false"
   },
   "outputs": [],
   "source": [
    "def ks(preds,y):\n",
    "    get_ks = lambda preds,y: ks_2samp(preds[y==1], preds[y!=1]).statistic\n",
    "    ks=get_ks(preds,y)\n",
    "    return ks\n",
    "def gini(preds,y):\n",
    "    false_positive_rate, recall, thresholds = roc_curve(y,preds)  \n",
    "    roc_auc = auc(false_positive_rate, recall)\n",
    "    gini=2*roc_auc-1\n",
    "    return gini\n",
    "\n",
    "def binning(col,cut_points,labels=None):\n",
    "    minval=col.min()\n",
    "    maxval=col.max()\n",
    "    breaks_points=[minval]+cut_points+[maxval]\n",
    "    if not labels:\n",
    "        labels=range(len(cut_points)+1)\n",
    "    colBin=pd.cut(col,bins=breaks_points,labels=labels,include_lowest=True)\n",
    "    return colBin"
   ]
  },
  {
   "cell_type": "code",
   "execution_count": 3,
   "metadata": {
    "Collapsed": "false"
   },
   "outputs": [],
   "source": [
    "#读入数据处理变量\n",
    "gf_sample=pd.read_csv('./loan_demand_user_analysis.tsv',delimiter='\\t')\n",
    "gf_sample.columns=[x.split('.')[1] for x in gf_sample.columns]"
   ]
  },
  {
   "cell_type": "code",
   "execution_count": 4,
   "metadata": {
    "Collapsed": "false"
   },
   "outputs": [],
   "source": [
    "gf_sample['month_from_first_loan'] = gf_sample['day_from_first_drip_disburse_succ_time']//30"
   ]
  },
  {
   "cell_type": "code",
   "execution_count": 78,
   "metadata": {
    "Collapsed": "false"
   },
   "outputs": [
    {
     "data": {
      "text/plain": [
       "Index(['uid', 'funds_channel_id', 'server_date', 'dsd_market_setup_sw_tag',\n",
       "       'dsd_loan_page_show_tag', 'dsd_loan_confirm_button_ck_tag',\n",
       "       'day_from_first_drip_disburse_succ_time', 'last_taken_time',\n",
       "       'first_use_time', 'last_7_day_drip_taken_coupon_num',\n",
       "       'last_30_day_drip_taken_coupon_num',\n",
       "       'last_3_month_drip_taken_coupon_num',\n",
       "       'last_7_day_drip_taken_type_1_coupon_num',\n",
       "       'last_30_day_drip_taken_type_1_coupon_num',\n",
       "       'last_3_month_drip_taken_type_1_coupon_num',\n",
       "       'last_7_day_drip_taken_type_3_coupon_num',\n",
       "       'last_30_day_drip_taken_type_3_coupon_num',\n",
       "       'last_3_month_drip_taken_type_3_coupon_num',\n",
       "       'last_7_day_drip_taken_type_2_coupon_num',\n",
       "       'last_30_day_drip_taken_type_2_coupon_num',\n",
       "       'last_3_month_drip_taken_type_2_coupon_num',\n",
       "       'last_7_day_drip_use_coupon_num', 'last_30_day_drip_use_coupon_num',\n",
       "       'last_3_month_drip_use_coupon_num', 'avg_use_value_amt',\n",
       "       'last_7_day_drip_use_coupon_amt', 'last_30_day_drip_use_coupon_amt',\n",
       "       'last_3_month_drip_use_coupon_amt', 'his_taken_use_rate',\n",
       "       'current_valid_coupon_num', 'current_drip_credit_line',\n",
       "       'current_drip_credit_line_balance', 'current_drip_credit_line_use_rate',\n",
       "       'current_drip_interest_rate', 'last_30_day_drip_loan_num',\n",
       "       'last_3_month_drip_loan_num', 'last_30_day_drip_loan_money',\n",
       "       'last_3_month_drip_loan_money', 'current_drip_in_loan_money',\n",
       "       'curren_drip_overdue_day_max', 'loan_model_v2_overdue_score',\n",
       "       'loan_model_v2_fraud_score', 'last_3_month_hit_pkg_prefix_cnt',\n",
       "       'last_3_month_hit_pkg_loan_cnt', 'last_3_month_hit_app_gamble_cnt',\n",
       "       'last_3_month_fastgulf_passenger_finish_order_actual_cost',\n",
       "       'last_30_day_fastgulf_passenger_finish_order_actual_cost',\n",
       "       'last_3_month_category_medicalcare_clinic_orders',\n",
       "       'last_3_month_category_finance_orders', 'month_from_first_loan'],\n",
       "      dtype='object')"
      ]
     },
     "execution_count": 78,
     "metadata": {},
     "output_type": "execute_result"
    }
   ],
   "source": [
    "gf_sample.columns"
   ]
  },
  {
   "cell_type": "code",
   "execution_count": 81,
   "metadata": {},
   "outputs": [],
   "source": [
    "tmp = gf_sample[[#'dsd_market_setup_sw_tag',\n",
    "       'month_from_first_loan', 'current_drip_credit_line',\n",
    "       'current_drip_credit_line_balance', 'current_drip_credit_line_use_rate','current_drip_in_loan_money',\n",
    "       'current_drip_interest_rate', 'last_30_day_drip_loan_num','last_3_month_drip_loan_num', 'last_30_day_drip_loan_money','last_3_month_drip_loan_money',\n",
    "        'current_valid_coupon_num','his_taken_use_rate',\n",
    "        'last_7_day_drip_taken_coupon_num','last_30_day_drip_taken_coupon_num','last_3_month_drip_taken_coupon_num',\n",
    "        'last_7_day_drip_use_coupon_num','last_30_day_drip_use_coupon_num','last_3_month_drip_use_coupon_num','avg_use_value_amt',\n",
    "        'last_7_day_drip_use_coupon_amt','last_30_day_drip_use_coupon_amt','last_3_month_drip_use_coupon_amt',\n",
    "       'dsd_loan_confirm_button_ck_tag'\n",
    "       ]]"
   ]
  },
  {
   "cell_type": "code",
   "execution_count": 82,
   "metadata": {},
   "outputs": [
    {
     "data": {
      "text/plain": [
       "month_from_first_loan                  294370\n",
       "current_drip_credit_line               175844\n",
       "current_drip_credit_line_balance       175844\n",
       "current_drip_credit_line_use_rate      201151\n",
       "current_drip_in_loan_money             325418\n",
       "current_drip_interest_rate             175844\n",
       "last_30_day_drip_loan_num             1693556\n",
       "last_3_month_drip_loan_num            1116695\n",
       "last_30_day_drip_loan_money           1693556\n",
       "last_3_month_drip_loan_money          1116695\n",
       "current_valid_coupon_num               122714\n",
       "his_taken_use_rate                      97342\n",
       "last_7_day_drip_taken_coupon_num        97342\n",
       "last_30_day_drip_taken_coupon_num       97342\n",
       "last_3_month_drip_taken_coupon_num      97342\n",
       "last_7_day_drip_use_coupon_num          97342\n",
       "last_30_day_drip_use_coupon_num         97342\n",
       "last_3_month_drip_use_coupon_num        97342\n",
       "avg_use_value_amt                      129545\n",
       "last_7_day_drip_use_coupon_amt          97659\n",
       "last_30_day_drip_use_coupon_amt         98245\n",
       "last_3_month_drip_use_coupon_amt        98336\n",
       "dsd_loan_confirm_button_ck_tag              0\n",
       "dtype: int64"
      ]
     },
     "execution_count": 82,
     "metadata": {},
     "output_type": "execute_result"
    }
   ],
   "source": [
    "tmp.isna().sum()"
   ]
  },
  {
   "cell_type": "code",
   "execution_count": 83,
   "metadata": {},
   "outputs": [],
   "source": [
    "# tmp['month_from_first_loan'] = tmp['month_from_first_loan'].fillna(10000)\n",
    "# tmp['current_drip_credit_line_use_rate'] = tmp['current_drip_credit_line_use_rate'].fillna(1.0)\n",
    "\n",
    "# cols = [\n",
    "#         'current_drip_credit_line_balance',\n",
    "#         'last_30_day_drip_loan_num','last_3_month_drip_loan_num','last_30_day_drip_loan_money','last_3_month_drip_loan_money','current_drip_in_loan_money',\n",
    "#         'avg_use_value_amt','current_valid_coupon_num','his_taken_use_rate',\n",
    "#        'last_7_day_drip_taken_coupon_num','last_30_day_drip_taken_coupon_num','last_3_month_drip_taken_coupon_num',\n",
    "# #        'last_7_day_drip_taken_type_1_coupon_num','last_30_day_drip_taken_type_1_coupon_num','last_3_month_drip_taken_type_1_coupon_num',\n",
    "# #        'last_7_day_drip_taken_type_2_coupon_num','last_30_day_drip_taken_type_1_coupon_num','last_3_month_drip_taken_type_1_coupon_num',\n",
    "# #        'last_7_day_drip_taken_type_3_coupon_num','last_30_day_drip_taken_type_3_coupon_num','last_3_month_drip_taken_type_3_coupon_num',\n",
    "#        'last_7_day_drip_use_coupon_num','last_30_day_drip_use_coupon_num','last_3_month_drip_use_coupon_num',\n",
    "#        'last_7_day_drip_use_coupon_amt','last_30_day_drip_use_coupon_amt','last_3_month_drip_use_coupon_amt'\n",
    "#        ]\n",
    "# for col in cols:\n",
    "#     tmp[col] = tmp[col].fillna(0)\n",
    "tmp = tmp.dropna()"
   ]
  },
  {
   "cell_type": "code",
   "execution_count": 84,
   "metadata": {},
   "outputs": [
    {
     "name": "stdout",
     "output_type": "stream",
     "text": [
      "<class 'pandas.core.frame.DataFrame'>\n",
      "Int64Index: 822096 entries, 2 to 2565789\n",
      "Data columns (total 23 columns):\n",
      "month_from_first_loan                 822096 non-null float64\n",
      "current_drip_credit_line              822096 non-null float64\n",
      "current_drip_credit_line_balance      822096 non-null float64\n",
      "current_drip_credit_line_use_rate     822096 non-null float64\n",
      "current_drip_in_loan_money            822096 non-null float64\n",
      "current_drip_interest_rate            822096 non-null float64\n",
      "last_30_day_drip_loan_num             822096 non-null float64\n",
      "last_3_month_drip_loan_num            822096 non-null float64\n",
      "last_30_day_drip_loan_money           822096 non-null float64\n",
      "last_3_month_drip_loan_money          822096 non-null float64\n",
      "current_valid_coupon_num              822096 non-null float64\n",
      "his_taken_use_rate                    822096 non-null float64\n",
      "last_7_day_drip_taken_coupon_num      822096 non-null float64\n",
      "last_30_day_drip_taken_coupon_num     822096 non-null float64\n",
      "last_3_month_drip_taken_coupon_num    822096 non-null float64\n",
      "last_7_day_drip_use_coupon_num        822096 non-null float64\n",
      "last_30_day_drip_use_coupon_num       822096 non-null float64\n",
      "last_3_month_drip_use_coupon_num      822096 non-null float64\n",
      "avg_use_value_amt                     822096 non-null float64\n",
      "last_7_day_drip_use_coupon_amt        822096 non-null float64\n",
      "last_30_day_drip_use_coupon_amt       822096 non-null float64\n",
      "last_3_month_drip_use_coupon_amt      822096 non-null float64\n",
      "dsd_loan_confirm_button_ck_tag        822096 non-null int64\n",
      "dtypes: float64(22), int64(1)\n",
      "memory usage: 150.5 MB\n"
     ]
    }
   ],
   "source": [
    "tmp.info()"
   ]
  },
  {
   "cell_type": "code",
   "execution_count": 85,
   "metadata": {},
   "outputs": [
    {
     "data": {
      "text/plain": [
       "month_from_first_loan                 0\n",
       "current_drip_credit_line              0\n",
       "current_drip_credit_line_balance      0\n",
       "current_drip_credit_line_use_rate     0\n",
       "current_drip_in_loan_money            0\n",
       "current_drip_interest_rate            0\n",
       "last_30_day_drip_loan_num             0\n",
       "last_3_month_drip_loan_num            0\n",
       "last_30_day_drip_loan_money           0\n",
       "last_3_month_drip_loan_money          0\n",
       "current_valid_coupon_num              0\n",
       "his_taken_use_rate                    0\n",
       "last_7_day_drip_taken_coupon_num      0\n",
       "last_30_day_drip_taken_coupon_num     0\n",
       "last_3_month_drip_taken_coupon_num    0\n",
       "last_7_day_drip_use_coupon_num        0\n",
       "last_30_day_drip_use_coupon_num       0\n",
       "last_3_month_drip_use_coupon_num      0\n",
       "avg_use_value_amt                     0\n",
       "last_7_day_drip_use_coupon_amt        0\n",
       "last_30_day_drip_use_coupon_amt       0\n",
       "last_3_month_drip_use_coupon_amt      0\n",
       "dsd_loan_confirm_button_ck_tag        0\n",
       "dtype: int64"
      ]
     },
     "execution_count": 85,
     "metadata": {},
     "output_type": "execute_result"
    }
   ],
   "source": [
    "tmp.isna().sum()"
   ]
  },
  {
   "cell_type": "code",
   "execution_count": 91,
   "metadata": {
    "Collapsed": "false"
   },
   "outputs": [],
   "source": [
    "x=tmp[['month_from_first_loan', 'current_drip_credit_line','current_drip_credit_line_balance', 'current_drip_credit_line_use_rate',\n",
    "       'current_drip_in_loan_money',\n",
    "       'current_drip_interest_rate', 'last_30_day_drip_loan_num','last_3_month_drip_loan_num', 'last_30_day_drip_loan_money','last_3_month_drip_loan_money',\n",
    "        'current_valid_coupon_num','his_taken_use_rate',\n",
    "        'last_7_day_drip_taken_coupon_num',#'last_30_day_drip_taken_coupon_num','last_3_month_drip_taken_coupon_num',\n",
    "        'last_7_day_drip_use_coupon_num',#'last_30_day_drip_use_coupon_num','last_3_month_drip_use_coupon_num','avg_use_value_amt',\n",
    "        'last_7_day_drip_use_coupon_amt',#'last_30_day_drip_use_coupon_amt','last_3_month_drip_use_coupon_amt'\n",
    "       ]]\n",
    "y=tmp[['dsd_loan_confirm_button_ck_tag']]"
   ]
  },
  {
   "cell_type": "code",
   "execution_count": 92,
   "metadata": {
    "Collapsed": "false"
   },
   "outputs": [],
   "source": [
    "x_train, x_test, y_train, y_test = train_test_split(x, y, test_size = 0.3,random_state=0)\n",
    "# x_train = x_train.fillna(0)\n",
    "# x_test = x_test.fillna(0)"
   ]
  },
  {
   "cell_type": "code",
   "execution_count": 93,
   "metadata": {
    "Collapsed": "false"
   },
   "outputs": [
    {
     "data": {
      "text/plain": [
       "True"
      ]
     },
     "execution_count": 93,
     "metadata": {},
     "output_type": "execute_result"
    }
   ],
   "source": [
    "clf = tree.DecisionTreeClassifier(criterion='gini', splitter='best', max_depth=4, min_samples_split=2, min_samples_leaf=1000, min_weight_fraction_leaf=0.0, max_features=None, random_state=None, max_leaf_nodes=None, class_weight=None)\n",
    "clf = clf.fit(x_train,y_train)\n",
    "\n",
    "dot_data = tree.export_graphviz(clf, out_file=None,\n",
    "                     feature_names=x_train.columns,   \n",
    "                     filled=True, rounded=True,  \n",
    "                     special_characters=True,proportion=True) \n",
    "graph = pydotplus.graph_from_dot_data(dot_data) \n",
    "\n",
    "graph.write_pdf(\"loan_demand_tree1.pdf\")"
   ]
  },
  {
   "cell_type": "code",
   "execution_count": 94,
   "metadata": {},
   "outputs": [
    {
     "name": "stderr",
     "output_type": "stream",
     "text": [
      "/user/local/miniconda3/lib/python3.7/site-packages/ipykernel_launcher.py:1: SettingWithCopyWarning: \n",
      "A value is trying to be set on a copy of a slice from a DataFrame.\n",
      "Try using .loc[row_indexer,col_indexer] = value instead\n",
      "\n",
      "See the caveats in the documentation: http://pandas.pydata.org/pandas-docs/stable/indexing.html#indexing-view-versus-copy\n",
      "  \"\"\"Entry point for launching an IPython kernel.\n"
     ]
    },
    {
     "name": "stdout",
     "output_type": "stream",
     "text": [
      "[7, 4, 22, 12, 11, 5, 27, 30, 23, 20, 8, 26, 19, 14, 29, 15]\n"
     ]
    },
    {
     "data": {
      "text/plain": [
       "True"
      ]
     },
     "execution_count": 94,
     "metadata": {},
     "output_type": "execute_result"
    }
   ],
   "source": [
    "x_train['nodes'] = clf.apply(x_train)\n",
    "nodes = x_train.nodes.unique().tolist()\n",
    "print(nodes)\n",
    "\n",
    "x_train = pd.concat([x_train,y_train],axis=1)\n",
    "x_train = x_train[(x_train['nodes']!=4)&(x_train['nodes']!=5)&\n",
    "                 (x_train['nodes']!=7)&(x_train['nodes']!=8)&\n",
    "                 (x_train['nodes']!=19)&(x_train['nodes']!=20)].drop(['nodes'],axis=1)\n",
    "y_train = x_train['dsd_loan_confirm_button_ck_tag']\n",
    "x_train = x_train.drop('dsd_loan_confirm_button_ck_tag',axis=1)\n",
    "\n",
    "clf = tree.DecisionTreeClassifier(criterion='gini', splitter='best', max_depth=4, min_samples_split=2, min_samples_leaf=1000, min_weight_fraction_leaf=0.0, max_features=None, random_state=None, max_leaf_nodes=None, class_weight=None)\n",
    "clf = clf.fit(x_train,y_train)\n",
    "\n",
    "dot_data = tree.export_graphviz(clf, out_file=None,\n",
    "                     feature_names=x_train.columns,   \n",
    "                     filled=True, rounded=True,  \n",
    "                     special_characters=True,proportion=True) \n",
    "graph = pydotplus.graph_from_dot_data(dot_data) \n",
    "\n",
    "graph.write_pdf(\"loan_demand_tree2.pdf\")"
   ]
  },
  {
   "cell_type": "code",
   "execution_count": 95,
   "metadata": {},
   "outputs": [
    {
     "name": "stdout",
     "output_type": "stream",
     "text": [
      "[19, 8, 5, 23, 27, 22, 20, 26, 29, 30, 4, 11, 14, 7, 15, 12]\n"
     ]
    },
    {
     "data": {
      "text/plain": [
       "True"
      ]
     },
     "execution_count": 95,
     "metadata": {},
     "output_type": "execute_result"
    }
   ],
   "source": [
    "x_train['nodes'] = clf.apply(x_train)\n",
    "nodes = x_train.nodes.unique().tolist()\n",
    "print(nodes)\n",
    "\n",
    "x_train = pd.concat([x_train,y_train],axis=1)\n",
    "x_train = x_train[(x_train['nodes']!=4)&(x_train['nodes']!=5)&\n",
    "                 (x_train['nodes']!=7)&(x_train['nodes']!=8)&\n",
    "                 (x_train['nodes']!=26)].drop(['nodes'],axis=1)\n",
    "y_train = x_train['dsd_loan_confirm_button_ck_tag']\n",
    "x_train = x_train.drop('dsd_loan_confirm_button_ck_tag',axis=1)\n",
    "\n",
    "clf = tree.DecisionTreeClassifier(criterion='gini', splitter='best', max_depth=4, min_samples_split=2, min_samples_leaf=1000, min_weight_fraction_leaf=0.0, max_features=None, random_state=None, max_leaf_nodes=None, class_weight=None)\n",
    "clf = clf.fit(x_train,y_train)\n",
    "\n",
    "dot_data = tree.export_graphviz(clf, out_file=None,\n",
    "                     feature_names=x_train.columns,   \n",
    "                     filled=True, rounded=True,  \n",
    "                     special_characters=True,proportion=True) \n",
    "graph = pydotplus.graph_from_dot_data(dot_data) \n",
    "\n",
    "graph.write_pdf(\"loan_demand_tree3.pdf\")"
   ]
  },
  {
   "cell_type": "code",
   "execution_count": 73,
   "metadata": {
    "Collapsed": "false"
   },
   "outputs": [],
   "source": [
    "from sklearn import metrics\n",
    "def print_result(y_score, y_test, thr=0.5):\n",
    "    fpr, tpr, thresholds = metrics.roc_curve(y_test, y_score, pos_label = 1)\n",
    "    print('auc:{}'.format(metrics.auc(fpr, tpr)))\n"
   ]
  },
  {
   "cell_type": "code",
   "execution_count": 74,
   "metadata": {
    "Collapsed": "false"
   },
   "outputs": [
    {
     "name": "stdout",
     "output_type": "stream",
     "text": [
      "auc:0.5314517835746999\n",
      "auc:0.5309684363956242\n"
     ]
    }
   ],
   "source": [
    "y_score_train = clf.predict(x_train)\n",
    "print_result(y_score_train, y_train)\n",
    "y_score_test = clf.predict(x_test)\n",
    "print_result(y_score_test, y_test)"
   ]
  },
  {
   "cell_type": "code",
   "execution_count": null,
   "metadata": {
    "Collapsed": "false"
   },
   "outputs": [],
   "source": []
  }
 ],
 "metadata": {
  "kernelspec": {
   "display_name": "Python 3",
   "language": "python",
   "name": "python3"
  },
  "language_info": {
   "codemirror_mode": {
    "name": "ipython",
    "version": 3
   },
   "file_extension": ".py",
   "mimetype": "text/x-python",
   "name": "python",
   "nbconvert_exporter": "python",
   "pygments_lexer": "ipython3",
   "version": "3.7.4"
  }
 },
 "nbformat": 4,
 "nbformat_minor": 4
}
